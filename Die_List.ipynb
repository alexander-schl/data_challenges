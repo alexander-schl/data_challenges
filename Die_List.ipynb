{
 "cells": [
  {
   "cell_type": "code",
   "execution_count": 54,
   "id": "48ad92bd-5167-41e2-ba81-6cd85a5b8804",
   "metadata": {},
   "outputs": [],
   "source": [
    "import os\n",
    "import pandas as pd\n",
    "import pickle\n",
    "from collections import defaultdict"
   ]
  },
  {
   "cell_type": "code",
   "execution_count": 55,
   "id": "f4f38a7f-a223-4810-8619-72f1cd9f65cc",
   "metadata": {},
   "outputs": [],
   "source": [
    "path = \"../Stempelliste_bueschel_Neuses_einfach.xlsx\"\n",
    "df = pd.read_excel(path, engine='openpyxl')\n",
    "\n",
    "Averse = defaultdict(list)\n",
    "Reverse = defaultdict(list)\n",
    "\n",
    "ID = df[\"Dédalo ID\"]\n",
    "A = df[\"Stempeluntergruppe Av\"]\n",
    "R = df[\"Stempeluntergruppe Rv\"]\n",
    "\n",
    "for id_val, av, rv in zip(ID, A, R):\n",
    "    Averse[av].append(id_val)\n",
    "    Reverse[rv].append(id_val)"
   ]
  },
  {
   "cell_type": "code",
   "execution_count": 50,
   "id": "214c72c6-a65f-4eb0-a52f-6284b2d02a94",
   "metadata": {},
   "outputs": [],
   "source": [
    "with open(\"Die_Ground_Truth.pkl\", \"wb\") as f:\n",
    "    pickle.dump({\"Averse\": dict(Averse), \"Reverse\": dict(Reverse)}, f)"
   ]
  },
  {
   "cell_type": "code",
   "execution_count": 36,
   "id": "862571da-0eba-4b76-ab12-bb0e7f67d05e",
   "metadata": {},
   "outputs": [],
   "source": [
    "\n",
    "    \n"
   ]
  },
  {
   "cell_type": "code",
   "execution_count": 44,
   "id": "57ff446c-56ad-43ae-a2ca-37ab7fe7fac5",
   "metadata": {},
   "outputs": [
    {
     "name": "stdout",
     "output_type": "stream",
     "text": [
      "defaultdict(<class 'list'>, {'Av_01': [3627, 3628, 3629, 3630, 3631, 3618, 3613, 3632, 3595, 3594, 3633, 3634, 3635, 3636, 3637, 3638, 3639, 3640, 3647, 3648, 3649, 3650, 3651], 'Av_02': [3641, 3642, 3643, 3644, 3645, 3646, 3724, 3725, 3726, 3727, 3728, 3729, 3730], 'Av_03': [3585, 3654, 3658, 3659, 3699, 3660, 3661, 3662, 3663, 3605], nan: [3657, 3664, 3672, 3674, 3733, 3767, 3768, 3769, 3770, 3784, 3785, 3860, 3861, 3888, 3889, 3581], 'Av_04': [3665, 3666, 3667, 3668, 3669], 'Av_05': [3698, 3670, 3671, 3673], 'Av_06': [3675, 3676, 3677, 3678, 3679, 3680, 3589], 'Av_07': [3681, 3682, 3683, 3684, 3685, 3590, 3686, 3687, 3688], 'Av_08': [3689, 3690, 3691, 3692, 3771, 3772, 3773, 3774, 3609], 'Av_09': [3693, 3694, 3695, 3696, 3697], 'Av_10': [3708, 3709, 3775, 3776, 3777, 3778, 3779, 3780], 'Av_11': [3710, 3711, 3712, 3713, 3714, 3715, 3716, 3717, 3583, 3612, 3718, 3719], 'Av_12': [3731, 3732, 3604], 'Av_13': [3623, 3743, 3744, 3745, 3746, 3748, 3749, 3750, 3813, 3814, 3815, 3816, 3817, 3818], 'Av_14': [3755, 3756, 3757, 3758, 3621, 3759, 3760, 3761, 3762, 3763, 3764], 'Av_15': [3765, 3766], 'Av_16': [3786, 3787], 'Av_17': [3788, 3789, 3790, 3791, 3792, 3793, 3794], 'Av_18': [3795, 3796, 3797, 3614, 3798, 3799, 3800, 3801, 3802, 3803, 3804, 3805, 3806, 3807, 3808], 'Av_19': [3809, 3810, 3811, 3812], 'Av_20': [3835, 3836, 3603, 3837, 3838, 3839, 3840, 3841, 3842], 'Av_21': [3853, 3854, 3855, 3856, 3857, 3858, 3859], 'Av_22': [3880, 3881, 3882, 3883, 3884, 3885, 3886, 3887], 'Av_23': [3894, 3586, 3895, 3896], 'Av_24': [3897, 3898, 3899, 3900, 3901, 3902, 3903, 3904], 'Av_25': [3619, 3905, 3926, 3906, 3907, 3908, 3909, 3910, 3911]})\n"
     ]
    }
   ],
   "source": []
  }
 ],
 "metadata": {
  "kernelspec": {
   "display_name": "Python 3 (ipykernel)",
   "language": "python",
   "name": "python3"
  },
  "language_info": {
   "codemirror_mode": {
    "name": "ipython",
    "version": 3
   },
   "file_extension": ".py",
   "mimetype": "text/x-python",
   "name": "python",
   "nbconvert_exporter": "python",
   "pygments_lexer": "ipython3",
   "version": "3.12.10"
  }
 },
 "nbformat": 4,
 "nbformat_minor": 5
}
