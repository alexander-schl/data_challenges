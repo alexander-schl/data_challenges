{
 "cells": [
  {
   "cell_type": "code",
   "execution_count": 59,
   "id": "0ac73ce1-2eb8-4afb-b1ea-f04bfd750d45",
   "metadata": {},
   "outputs": [],
   "source": [
    "import pandas as pd\n",
    "import os\n",
    "import glob\n",
    "import numpy as np\n",
    "import pickle\n",
    "from pathlib import Path\n",
    "from PIL import Image\n",
    "import shutil"
   ]
  },
  {
   "cell_type": "code",
   "execution_count": 64,
   "id": "fb2f1aa2-0e1f-498a-8eb7-65e39f15a3f3",
   "metadata": {},
   "outputs": [],
   "source": [
    "def Read(path):\n",
    "    if path.endswith(\".csv\"):\n",
    "        df = pd.read_csv(path)\n",
    "    elif path.endswith(\".xlsx\"):\n",
    "        df = pd.read_excel(path)\n",
    "    else:\n",
    "        raise ValueError(\"Unsupported file type. Only .csv and .xlsx are supported.\")\n",
    "    if 'image' in df.columns:\n",
    "        df = df.drop(columns=['image'])\n",
    "    df = df.sort_values(by='die_index')\n",
    "    return df"
   ]
  },
  {
   "cell_type": "code",
   "execution_count": 54,
   "id": "029c5aae-ceb1-44f5-90d5-4cda5392bef8",
   "metadata": {},
   "outputs": [],
   "source": [
    "def Directory(data):\n",
    "    path = Path(\"../Die_Results\")\n",
    "    path.mkdir(exist_ok=True)\n",
    "    for i in range(len(data)):\n",
    "        path = data[\"die_index\"][i]\n",
    "        direct = \"../Die_Results/\" + str(path)\n",
    "        if not os.path.isdir(direct):\n",
    "            path = Path(direct)\n",
    "            path.mkdir(exist_ok=True)\n",
    "        img = Image.open(data[\"image_path\"][i])\n",
    "        new_path = data[\"image_path\"][i].split(\"/\")\n",
    "        img.save(direct + \"/\" + new_path[3] + \"_\" + new_path[2] + \"_\"+ new_path[4])"
   ]
  },
  {
   "cell_type": "code",
   "execution_count": 60,
   "id": "2242252c-01ca-4e81-9781-8c976eb33494",
   "metadata": {},
   "outputs": [],
   "source": [
    "def RemoveDirectory():\n",
    "    if os.path.isdir(\"../Die_Results\"):\n",
    "        shutil.rmtree(\"../Die_Results\")"
   ]
  },
  {
   "cell_type": "code",
   "execution_count": 67,
   "id": "d8aed149-f971-49fd-bc5d-e9a721efa318",
   "metadata": {},
   "outputs": [],
   "source": [
    "#RemoveDirectory()\n",
    "path = \"coin_die_assignments.csv\"\n",
    "data = Read(path)\n",
    "Directory(data)\n"
   ]
  },
  {
   "cell_type": "code",
   "execution_count": null,
   "id": "f8abcffa-fdc1-4bc4-8afe-a0017af86b4f",
   "metadata": {},
   "outputs": [],
   "source": []
  }
 ],
 "metadata": {
  "kernelspec": {
   "display_name": "Python 3 (ipykernel)",
   "language": "python",
   "name": "python3"
  },
  "language_info": {
   "codemirror_mode": {
    "name": "ipython",
    "version": 3
   },
   "file_extension": ".py",
   "mimetype": "text/x-python",
   "name": "python",
   "nbconvert_exporter": "python",
   "pygments_lexer": "ipython3",
   "version": "3.12.10"
  }
 },
 "nbformat": 4,
 "nbformat_minor": 5
}
